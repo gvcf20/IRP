{
  "cells": [
    {
      "cell_type": "markdown",
      "metadata": {
        "id": "ExIK-x9XQ2XW"
      },
      "source": [
        "# 1.3 Exercício Intermediário 1"
      ]
    },
    {
      "cell_type": "code",
      "execution_count": 37,
      "metadata": {},
      "outputs": [],
      "source": [
        "from sklearn.datasets import load_iris\n",
        "import pandas as pd\n",
        "import numpy as np\n",
        "import matplotlib.pyplot as plt\n",
        "from tqdm import tqdm"
      ]
    },
    {
      "cell_type": "code",
      "execution_count": 38,
      "metadata": {
        "id": "tpw7_eQfPaJd"
      },
      "outputs": [],
      "source": [
        "iris = load_iris()\n",
        "\n",
        "df = pd.DataFrame(iris.data, columns=iris.feature_names)\n",
        "\n",
        "df['class'] = iris.target\n",
        "\n",
        "df = df.sample(frac=1)\n",
        "\n",
        "for i in range(len(df)):\n",
        "  if df.loc[i,'class'] == 2:\n",
        "    df.loc[i,'class'] = -1\n",
        "  elif df.loc[i,'class'] == 0:\n",
        "    df.loc[i,'class'] = -1\n",
        "\n",
        "n = len(df)\n",
        "test_size = 0.3\n",
        "X_train = df.iloc[:int(test_size*n),:-1].values\n",
        "y_train = df.iloc[:int(test_size*n),-1].values\n",
        "\n",
        "X_test = df.iloc[int(test_size*n):,:-1].values\n",
        "y_test = df.iloc[int(test_size*n):,-1].values\n"
      ]
    },
    {
      "cell_type": "code",
      "execution_count": 18,
      "metadata": {
        "id": "6OPKrFsCUqgM"
      },
      "outputs": [],
      "source": [
        "def euclidean_distance(x, y):\n",
        "    if len(x) != len(y):\n",
        "        raise ValueError(\"x and y must have the same dimension\")\n",
        "    return np.sqrt(sum((xi - yi) ** 2 for xi, yi in zip(x, y)))\n",
        "\n",
        "def knn(X_train, y_train, X_test, k):\n",
        "\n",
        "  y_pred = []\n",
        "  Q = []\n",
        "  for i in range(len(X_test)):\n",
        "    distances = []\n",
        "    for j in range(len(X_train)):\n",
        "      distances.append((euclidean_distance(X_test[i], X_train[j]), y_train[j]))\n",
        "    distances.sort()\n",
        "    neighbors = distances[:k]\n",
        "    labels = [neighbor[1] for neighbor in neighbors]\n",
        "    Q1 = 0\n",
        "    Q2 = 0\n",
        "\n",
        "    for label in labels:\n",
        "      if label == 1:\n",
        "        Q1 += 1\n",
        "      elif label == 2:\n",
        "        Q2 += 1\n",
        "\n",
        "    Q.append((Q1,Q2))\n",
        "\n",
        "    y_pred.append(int(max(set(labels), key=labels.count)))\n",
        "  # print(Q)\n",
        "  return Q , y_pred\n",
        "\n",
        "# Q,y_pred = knn(X_train, y_train, X_test, 25)"
      ]
    },
    {
      "cell_type": "code",
      "execution_count": 19,
      "metadata": {},
      "outputs": [],
      "source": [
        "def get_labels(Q, y_pred):\n",
        "    blues = []\n",
        "    reds = []\n",
        "    for q,pred in zip(Q,y_pred):\n",
        "\n",
        "        if pred == 1:\n",
        "            blues.append(q)\n",
        "        else:\n",
        "            reds.append(q)\n",
        "\n",
        "    return blues,reds    "
      ]
    },
    {
      "cell_type": "code",
      "execution_count": 20,
      "metadata": {},
      "outputs": [],
      "source": [
        "def plot_predictions(blues,reds):\n",
        "\n",
        "    xb,yb = zip(*blues)\n",
        "    xr,yr = zip(*reds)\n",
        "    plt.figure(figsize=(8,8))\n",
        "    plt.scatter(xb,yb, color = 'blue', marker='o')\n",
        "    plt.scatter(xr,yr, color = 'red', marker='o')\n",
        "    line = np.linspace(6, 18, 100)\n",
        "    plt.plot(line, line, color=\"black\", linestyle=\"-\", label=\"y = x\")\n",
        "    plt.title(\"Previsões no plano Q1xQ2\")\n",
        "    plt.xlabel('Q2')\n",
        "    plt.ylabel('Q1')\n",
        "    plt.grid(True)\n",
        "    plt.gca().set_aspect('equal', adjustable='box')\n",
        "    plt.show()\n",
        "\n",
        "    return None"
      ]
    },
    {
      "cell_type": "code",
      "execution_count": 21,
      "metadata": {},
      "outputs": [],
      "source": [
        "def accuracy_percentage(y_pred, y_test):\n",
        "    if len(y_pred) != len(y_test):\n",
        "        raise ValueError(\"As listas devem ter o mesmo tamanho.\")\n",
        "    \n",
        "    acertos = sum(yp == yt for yp, yt in zip(y_pred, y_test))\n",
        "    total = len(y_test)\n",
        "    return (acertos / total) * 100\n"
      ]
    },
    {
      "cell_type": "code",
      "execution_count": 39,
      "metadata": {},
      "outputs": [
        {
          "name": "stdout",
          "output_type": "stream",
          "text": [
            "Porcentagem de acertos para k = 1 :  94.28571428571428\n",
            "Porcentagem de acertos para k = 2 :  91.42857142857143\n",
            "Porcentagem de acertos para k = 3 :  95.23809523809523\n",
            "Porcentagem de acertos para k = 4 :  94.28571428571428\n",
            "Porcentagem de acertos para k = 5 :  95.23809523809523\n",
            "Porcentagem de acertos para k = 6 :  93.33333333333333\n",
            "Porcentagem de acertos para k = 7 :  94.28571428571428\n",
            "Porcentagem de acertos para k = 8 :  93.33333333333333\n",
            "Porcentagem de acertos para k = 9 :  94.28571428571428\n",
            "Porcentagem de acertos para k = 10 :  92.38095238095238\n",
            "Porcentagem de acertos para k = 11 :  95.23809523809523\n",
            "Porcentagem de acertos para k = 12 :  91.42857142857143\n",
            "Porcentagem de acertos para k = 13 :  91.42857142857143\n",
            "Porcentagem de acertos para k = 14 :  89.52380952380953\n",
            "Porcentagem de acertos para k = 15 :  88.57142857142857\n",
            "Porcentagem de acertos para k = 16 :  89.52380952380953\n",
            "Porcentagem de acertos para k = 17 :  87.61904761904762\n",
            "Porcentagem de acertos para k = 18 :  87.61904761904762\n",
            "Porcentagem de acertos para k = 19 :  88.57142857142857\n",
            "Porcentagem de acertos para k = 20 :  88.57142857142857\n",
            "Porcentagem de acertos para k = 21 :  86.66666666666667\n",
            "Porcentagem de acertos para k = 22 :  86.66666666666667\n",
            "Porcentagem de acertos para k = 23 :  85.71428571428571\n",
            "Porcentagem de acertos para k = 24 :  86.66666666666667\n",
            "Porcentagem de acertos para k = 25 :  63.8095238095238\n",
            "Porcentagem de acertos para k = 26 :  63.8095238095238\n",
            "Porcentagem de acertos para k = 27 :  63.8095238095238\n",
            "Porcentagem de acertos para k = 28 :  63.8095238095238\n",
            "Porcentagem de acertos para k = 29 :  63.8095238095238\n",
            "Porcentagem de acertos para k = 30 :  63.8095238095238\n",
            "Porcentagem de acertos para k = 31 :  63.8095238095238\n",
            "Porcentagem de acertos para k = 32 :  63.8095238095238\n",
            "Porcentagem de acertos para k = 33 :  63.8095238095238\n",
            "Porcentagem de acertos para k = 34 :  63.8095238095238\n",
            "Porcentagem de acertos para k = 35 :  63.8095238095238\n",
            "Porcentagem de acertos para k = 36 :  63.8095238095238\n",
            "Porcentagem de acertos para k = 37 :  63.8095238095238\n",
            "Porcentagem de acertos para k = 38 :  63.8095238095238\n",
            "Porcentagem de acertos para k = 39 :  63.8095238095238\n"
          ]
        },
        {
          "data": {
            "image/png": "[encoded data removed]",
            "text/plain": [
              "<Figure size 600x600 with 1 Axes>"
            ]
          },
          "metadata": {},
          "output_type": "display_data"
        }
      ],
      "source": [
        "accuracy = []\n",
        "ks =[]\n",
        "for k in (range(1,40,1)):\n",
        "    ks.append(k)\n",
        "    Q,y_pred = knn(X_train,y_train, X_test, k)\n",
        "\n",
        "    blues, reds = get_labels(Q, y_pred)\n",
        "\n",
        "    acc = accuracy_percentage(y_pred, y_test)\n",
        "    accuracy.append(acc)\n",
        "\n",
        "    print(f'Porcentagem de acertos para k = {k} : ', acc)\n",
        "\n",
        "plt.figure(figsize=(6,6))\n",
        "plt.scatter(ks,accuracy,color = 'black', marker='o',label=\"Accuracy\")\n",
        "plt.plot(ks, accuracy, color=\"blue\", linestyle=\"-\", alpha=0.7)\n",
        "plt.title('KNN performance em função do número de vizinhos')\n",
        "plt.legend()\n",
        "plt.xlabel('k')\n",
        "plt.ylabel(\"Taxa de acerto do KNN\")\n",
        "plt.grid(True)\n",
        "plt.show()\n"
      ]
    }
  ],
  "metadata": {
    "colab": {
      "provenance": []
    },
    "kernelspec": {
      "display_name": "Python 3",
      "name": "python3"
    },
    "language_info": {
      "codemirror_mode": {
        "name": "ipython",
        "version": 3
      },
      "file_extension": ".py",
      "mimetype": "text/x-python",
      "name": "python",
      "nbconvert_exporter": "python",
      "pygments_lexer": "ipython3",
      "version": "3.10.12"
    }
  },
  "nbformat": 4,
  "nbformat_minor": 0
}
